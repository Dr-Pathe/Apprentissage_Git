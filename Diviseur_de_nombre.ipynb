{
 "cells": [
  {
   "cell_type": "markdown",
   "id": "3632a268",
   "metadata": {},
   "source": [
    "Write a program which prints all the divisors of a number."
   ]
  },
  {
   "cell_type": "code",
   "execution_count": 1,
   "id": "e0aa965c",
   "metadata": {},
   "outputs": [
    {
     "name": "stdout",
     "output_type": "stream",
     "text": [
      "Enter a number: 2\n",
      "the divasors of 2 are: \n",
      "2\n"
     ]
    }
   ],
   "source": [
    "num = int(input(\"Enter a number: \"))\n",
    "print(\"the divasors of\", num, \"are: \")\n",
    "\n",
    "for i in range(2, num+1):\n",
    "    if num % i==0:\n",
    "        print(i)"
   ]
  }
 ],
 "metadata": {
  "kernelspec": {
   "display_name": "Python 3 (ipykernel)",
   "language": "python",
   "name": "python3"
  },
  "language_info": {
   "codemirror_mode": {
    "name": "ipython",
    "version": 3
   },
   "file_extension": ".py",
   "mimetype": "text/x-python",
   "name": "python",
   "nbconvert_exporter": "python",
   "pygments_lexer": "ipython3",
   "version": "3.11.5"
  }
 },
 "nbformat": 4,
 "nbformat_minor": 5
}
